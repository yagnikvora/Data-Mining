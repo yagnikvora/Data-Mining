{
 "cells": [
  {
   "cell_type": "markdown",
   "id": "359025c2",
   "metadata": {},
   "source": [
    "<a href='https://www.darshan.ac.in/'> <img src='https://www.darshan.ac.in/Content/media/DU_Logo.svg' width=\"250\" height=\"300\"/></a>\n",
    "<pre>\n",
    "<center><b><h1>Data Mining</b></center>\n",
    "<center><b><h1>Lab - 1</b></center>    \n",
    "<pre>"
   ]
  },
  {
   "cell_type": "markdown",
   "id": "f493e5c9",
   "metadata": {},
   "source": [
    "# Introduction to Pandas Library Function:"
   ]
  },
  {
   "cell_type": "markdown",
   "id": "ec070177",
   "metadata": {},
   "source": [
    "# Step-1 Import the pandas Libraries"
   ]
  },
  {
   "cell_type": "code",
   "execution_count": null,
   "id": "12bb35a4",
   "metadata": {},
   "outputs": [],
   "source": []
  },
  {
   "cell_type": "markdown",
   "id": "539711f0",
   "metadata": {},
   "source": [
    "# Step-2 Import the dataset from this:...."
   ]
  },
  {
   "cell_type": "code",
   "execution_count": null,
   "id": "793c1e70",
   "metadata": {},
   "outputs": [],
   "source": []
  },
  {
   "cell_type": "markdown",
   "id": "0f4bc181",
   "metadata": {},
   "source": [
    "# Step-3 Read csv or excel File"
   ]
  },
  {
   "cell_type": "code",
   "execution_count": null,
   "id": "993dc571",
   "metadata": {},
   "outputs": [],
   "source": []
  },
  {
   "cell_type": "markdown",
   "id": "50008df1",
   "metadata": {},
   "source": [
    "# Step-4 Print Data from csv or excel File"
   ]
  },
  {
   "cell_type": "code",
   "execution_count": null,
   "id": "a878eb1a",
   "metadata": {},
   "outputs": [],
   "source": []
  },
  {
   "cell_type": "markdown",
   "id": "ffeb6d6d",
   "metadata": {},
   "source": [
    "# Step-5 See the First 10 Rows"
   ]
  },
  {
   "cell_type": "code",
   "execution_count": null,
   "id": "17393c5c",
   "metadata": {},
   "outputs": [],
   "source": []
  },
  {
   "cell_type": "markdown",
   "id": "c87ff96e",
   "metadata": {},
   "source": [
    "# Step-6 See the Last 10 Rows"
   ]
  },
  {
   "cell_type": "code",
   "execution_count": null,
   "id": "5cb640e1",
   "metadata": {},
   "outputs": [],
   "source": []
  },
  {
   "cell_type": "markdown",
   "id": "7f35e792",
   "metadata": {},
   "source": [
    "# Step-7 Data type of each columns"
   ]
  },
  {
   "cell_type": "code",
   "execution_count": null,
   "id": "12b75a7a",
   "metadata": {},
   "outputs": [],
   "source": []
  },
  {
   "cell_type": "markdown",
   "id": "8fb193ee",
   "metadata": {},
   "source": [
    "# Step-8 Display Summary Information"
   ]
  },
  {
   "cell_type": "code",
   "execution_count": null,
   "id": "0d9edc63",
   "metadata": {},
   "outputs": [],
   "source": []
  },
  {
   "cell_type": "markdown",
   "id": "76b942e1",
   "metadata": {},
   "source": [
    "# Step-9 Access a specific column "
   ]
  },
  {
   "cell_type": "code",
   "execution_count": null,
   "id": "a70add09",
   "metadata": {},
   "outputs": [],
   "source": []
  },
  {
   "cell_type": "markdown",
   "id": "55365673",
   "metadata": {},
   "source": [
    "# Step-10 Access rows by their integer location"
   ]
  },
  {
   "cell_type": "code",
   "execution_count": null,
   "id": "e89cc4b1",
   "metadata": {},
   "outputs": [],
   "source": []
  },
  {
   "cell_type": "markdown",
   "id": "ef3591cf",
   "metadata": {},
   "source": [
    "# Step-11 Delete a specific Column"
   ]
  },
  {
   "cell_type": "code",
   "execution_count": null,
   "id": "7ffb2c4d",
   "metadata": {},
   "outputs": [],
   "source": []
  },
  {
   "cell_type": "markdown",
   "id": "22c97515",
   "metadata": {},
   "source": [
    "# Step-12  Create a new Column"
   ]
  },
  {
   "cell_type": "code",
   "execution_count": null,
   "id": "89515a51",
   "metadata": {},
   "outputs": [],
   "source": []
  },
  {
   "cell_type": "markdown",
   "id": "4a34a0d3",
   "metadata": {},
   "source": [
    "# Step-13  Perform Condition Selection on DataFrame"
   ]
  },
  {
   "cell_type": "code",
   "execution_count": null,
   "id": "6cbe71fc",
   "metadata": {},
   "outputs": [],
   "source": []
  },
  {
   "cell_type": "markdown",
   "id": "5a826e0b",
   "metadata": {},
   "source": [
    "# Step-14 Compute the sum of value"
   ]
  },
  {
   "cell_type": "code",
   "execution_count": null,
   "id": "1de97513",
   "metadata": {},
   "outputs": [],
   "source": []
  },
  {
   "cell_type": "markdown",
   "id": "e170830c",
   "metadata": {},
   "source": [
    "# Step-15 Compute the mean of value"
   ]
  },
  {
   "cell_type": "code",
   "execution_count": null,
   "id": "45e01f32",
   "metadata": {},
   "outputs": [],
   "source": []
  },
  {
   "cell_type": "markdown",
   "id": "cddd8d1c",
   "metadata": {},
   "source": [
    "# Step-16 Count non-null value (column)"
   ]
  },
  {
   "cell_type": "code",
   "execution_count": null,
   "id": "06bea0ae",
   "metadata": {},
   "outputs": [],
   "source": []
  },
  {
   "cell_type": "markdown",
   "id": "5d5e3858",
   "metadata": {},
   "source": [
    "# Step-17 Find Minimun or Maximum values"
   ]
  },
  {
   "cell_type": "code",
   "execution_count": null,
   "id": "c6af8899",
   "metadata": {},
   "outputs": [],
   "source": []
  }
 ],
 "metadata": {
  "kernelspec": {
   "display_name": "Python 3 (ipykernel)",
   "language": "python",
   "name": "python3"
  },
  "language_info": {
   "codemirror_mode": {
    "name": "ipython",
    "version": 3
   },
   "file_extension": ".py",
   "mimetype": "text/x-python",
   "name": "python",
   "nbconvert_exporter": "python",
   "pygments_lexer": "ipython3",
   "version": "3.9.13"
  }
 },
 "nbformat": 4,
 "nbformat_minor": 5
}
