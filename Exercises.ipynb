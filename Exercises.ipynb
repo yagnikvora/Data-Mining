{
 "cells": [
  {
   "cell_type": "markdown",
   "metadata": {},
   "source": [
    "# Ex2 - Getting and Knowing your Data"
   ]
  },
  {
   "cell_type": "markdown",
   "metadata": {},
   "source": [
    "This time we are going to pull data directly from the internet.\n",
    "Special thanks to: https://github.com/justmarkham for sharing the dataset and materials.\n",
    "\n",
    "### Step 1. Import the necessary libraries"
   ]
  },
  {
   "cell_type": "code",
   "execution_count": 4,
   "metadata": {
    "collapsed": false,
    "jupyter": {
     "outputs_hidden": false
    }
   },
   "outputs": [],
   "source": [
    "import pandas as pd"
   ]
  },
  {
   "cell_type": "markdown",
   "metadata": {},
   "source": [
    "### Step 2. Import the dataset from this [address](https://raw.githubusercontent.com/justmarkham/DAT8/master/data/chipotle.tsv). "
   ]
  },
  {
   "cell_type": "code",
   "execution_count": 5,
   "metadata": {},
   "outputs": [],
   "source": [
    "api = \"https://raw.githubusercontent.com/justmarkham/DAT8/master/data/chipotle.tsv\"\n",
    "orders = pd.read_csv(api,sep=\"\\t\", index_col=\"order_id\")"
   ]
  },
  {
   "cell_type": "markdown",
   "metadata": {},
   "source": [
    "### Step 3. Assign it to a variable called chipo."
   ]
  },
  {
   "cell_type": "code",
   "execution_count": 6,
   "metadata": {
    "collapsed": false,
    "jupyter": {
     "outputs_hidden": false
    }
   },
   "outputs": [
    {
     "data": {
      "text/html": [
       "<div>\n",
       "<style scoped>\n",
       "    .dataframe tbody tr th:only-of-type {\n",
       "        vertical-align: middle;\n",
       "    }\n",
       "\n",
       "    .dataframe tbody tr th {\n",
       "        vertical-align: top;\n",
       "    }\n",
       "\n",
       "    .dataframe thead th {\n",
       "        text-align: right;\n",
       "    }\n",
       "</style>\n",
       "<table border=\"1\" class=\"dataframe\">\n",
       "  <thead>\n",
       "    <tr style=\"text-align: right;\">\n",
       "      <th></th>\n",
       "      <th>quantity</th>\n",
       "      <th>item_name</th>\n",
       "      <th>choice_description</th>\n",
       "      <th>item_price</th>\n",
       "    </tr>\n",
       "    <tr>\n",
       "      <th>order_id</th>\n",
       "      <th></th>\n",
       "      <th></th>\n",
       "      <th></th>\n",
       "      <th></th>\n",
       "    </tr>\n",
       "  </thead>\n",
       "  <tbody>\n",
       "    <tr>\n",
       "      <th>1</th>\n",
       "      <td>1</td>\n",
       "      <td>Chips and Fresh Tomato Salsa</td>\n",
       "      <td>NaN</td>\n",
       "      <td>$2.39</td>\n",
       "    </tr>\n",
       "    <tr>\n",
       "      <th>1</th>\n",
       "      <td>1</td>\n",
       "      <td>Izze</td>\n",
       "      <td>[Clementine]</td>\n",
       "      <td>$3.39</td>\n",
       "    </tr>\n",
       "    <tr>\n",
       "      <th>1</th>\n",
       "      <td>1</td>\n",
       "      <td>Nantucket Nectar</td>\n",
       "      <td>[Apple]</td>\n",
       "      <td>$3.39</td>\n",
       "    </tr>\n",
       "    <tr>\n",
       "      <th>1</th>\n",
       "      <td>1</td>\n",
       "      <td>Chips and Tomatillo-Green Chili Salsa</td>\n",
       "      <td>NaN</td>\n",
       "      <td>$2.39</td>\n",
       "    </tr>\n",
       "    <tr>\n",
       "      <th>2</th>\n",
       "      <td>2</td>\n",
       "      <td>Chicken Bowl</td>\n",
       "      <td>[Tomatillo-Red Chili Salsa (Hot), [Black Beans...</td>\n",
       "      <td>$16.98</td>\n",
       "    </tr>\n",
       "    <tr>\n",
       "      <th>...</th>\n",
       "      <td>...</td>\n",
       "      <td>...</td>\n",
       "      <td>...</td>\n",
       "      <td>...</td>\n",
       "    </tr>\n",
       "    <tr>\n",
       "      <th>1833</th>\n",
       "      <td>1</td>\n",
       "      <td>Steak Burrito</td>\n",
       "      <td>[Fresh Tomato Salsa, [Rice, Black Beans, Sour ...</td>\n",
       "      <td>$11.75</td>\n",
       "    </tr>\n",
       "    <tr>\n",
       "      <th>1833</th>\n",
       "      <td>1</td>\n",
       "      <td>Steak Burrito</td>\n",
       "      <td>[Fresh Tomato Salsa, [Rice, Sour Cream, Cheese...</td>\n",
       "      <td>$11.75</td>\n",
       "    </tr>\n",
       "    <tr>\n",
       "      <th>1834</th>\n",
       "      <td>1</td>\n",
       "      <td>Chicken Salad Bowl</td>\n",
       "      <td>[Fresh Tomato Salsa, [Fajita Vegetables, Pinto...</td>\n",
       "      <td>$11.25</td>\n",
       "    </tr>\n",
       "    <tr>\n",
       "      <th>1834</th>\n",
       "      <td>1</td>\n",
       "      <td>Chicken Salad Bowl</td>\n",
       "      <td>[Fresh Tomato Salsa, [Fajita Vegetables, Lettu...</td>\n",
       "      <td>$8.75</td>\n",
       "    </tr>\n",
       "    <tr>\n",
       "      <th>1834</th>\n",
       "      <td>1</td>\n",
       "      <td>Chicken Salad Bowl</td>\n",
       "      <td>[Fresh Tomato Salsa, [Fajita Vegetables, Pinto...</td>\n",
       "      <td>$8.75</td>\n",
       "    </tr>\n",
       "  </tbody>\n",
       "</table>\n",
       "<p>4622 rows × 4 columns</p>\n",
       "</div>"
      ],
      "text/plain": [
       "          quantity                              item_name  \\\n",
       "order_id                                                    \n",
       "1                1           Chips and Fresh Tomato Salsa   \n",
       "1                1                                   Izze   \n",
       "1                1                       Nantucket Nectar   \n",
       "1                1  Chips and Tomatillo-Green Chili Salsa   \n",
       "2                2                           Chicken Bowl   \n",
       "...            ...                                    ...   \n",
       "1833             1                          Steak Burrito   \n",
       "1833             1                          Steak Burrito   \n",
       "1834             1                     Chicken Salad Bowl   \n",
       "1834             1                     Chicken Salad Bowl   \n",
       "1834             1                     Chicken Salad Bowl   \n",
       "\n",
       "                                         choice_description item_price  \n",
       "order_id                                                                \n",
       "1                                                       NaN     $2.39   \n",
       "1                                              [Clementine]     $3.39   \n",
       "1                                                   [Apple]     $3.39   \n",
       "1                                                       NaN     $2.39   \n",
       "2         [Tomatillo-Red Chili Salsa (Hot), [Black Beans...    $16.98   \n",
       "...                                                     ...        ...  \n",
       "1833      [Fresh Tomato Salsa, [Rice, Black Beans, Sour ...    $11.75   \n",
       "1833      [Fresh Tomato Salsa, [Rice, Sour Cream, Cheese...    $11.75   \n",
       "1834      [Fresh Tomato Salsa, [Fajita Vegetables, Pinto...    $11.25   \n",
       "1834      [Fresh Tomato Salsa, [Fajita Vegetables, Lettu...     $8.75   \n",
       "1834      [Fresh Tomato Salsa, [Fajita Vegetables, Pinto...     $8.75   \n",
       "\n",
       "[4622 rows x 4 columns]"
      ]
     },
     "execution_count": 6,
     "metadata": {},
     "output_type": "execute_result"
    }
   ],
   "source": [
    "chipo = orders\n",
    "chipo"
   ]
  },
  {
   "cell_type": "markdown",
   "metadata": {},
   "source": [
    "### Step 4. See the first 10 entries"
   ]
  },
  {
   "cell_type": "code",
   "execution_count": 5,
   "metadata": {
    "collapsed": false,
    "jupyter": {
     "outputs_hidden": false
    }
   },
   "outputs": [
    {
     "data": {
      "text/html": [
       "<div>\n",
       "<style scoped>\n",
       "    .dataframe tbody tr th:only-of-type {\n",
       "        vertical-align: middle;\n",
       "    }\n",
       "\n",
       "    .dataframe tbody tr th {\n",
       "        vertical-align: top;\n",
       "    }\n",
       "\n",
       "    .dataframe thead th {\n",
       "        text-align: right;\n",
       "    }\n",
       "</style>\n",
       "<table border=\"1\" class=\"dataframe\">\n",
       "  <thead>\n",
       "    <tr style=\"text-align: right;\">\n",
       "      <th></th>\n",
       "      <th>quantity</th>\n",
       "      <th>item_name</th>\n",
       "      <th>choice_description</th>\n",
       "      <th>item_price</th>\n",
       "    </tr>\n",
       "    <tr>\n",
       "      <th>order_id</th>\n",
       "      <th></th>\n",
       "      <th></th>\n",
       "      <th></th>\n",
       "      <th></th>\n",
       "    </tr>\n",
       "  </thead>\n",
       "  <tbody>\n",
       "    <tr>\n",
       "      <th>1</th>\n",
       "      <td>1</td>\n",
       "      <td>Chips and Fresh Tomato Salsa</td>\n",
       "      <td>NaN</td>\n",
       "      <td>$2.39</td>\n",
       "    </tr>\n",
       "    <tr>\n",
       "      <th>1</th>\n",
       "      <td>1</td>\n",
       "      <td>Izze</td>\n",
       "      <td>[Clementine]</td>\n",
       "      <td>$3.39</td>\n",
       "    </tr>\n",
       "    <tr>\n",
       "      <th>1</th>\n",
       "      <td>1</td>\n",
       "      <td>Nantucket Nectar</td>\n",
       "      <td>[Apple]</td>\n",
       "      <td>$3.39</td>\n",
       "    </tr>\n",
       "    <tr>\n",
       "      <th>1</th>\n",
       "      <td>1</td>\n",
       "      <td>Chips and Tomatillo-Green Chili Salsa</td>\n",
       "      <td>NaN</td>\n",
       "      <td>$2.39</td>\n",
       "    </tr>\n",
       "    <tr>\n",
       "      <th>2</th>\n",
       "      <td>2</td>\n",
       "      <td>Chicken Bowl</td>\n",
       "      <td>[Tomatillo-Red Chili Salsa (Hot), [Black Beans...</td>\n",
       "      <td>$16.98</td>\n",
       "    </tr>\n",
       "    <tr>\n",
       "      <th>3</th>\n",
       "      <td>1</td>\n",
       "      <td>Chicken Bowl</td>\n",
       "      <td>[Fresh Tomato Salsa (Mild), [Rice, Cheese, Sou...</td>\n",
       "      <td>$10.98</td>\n",
       "    </tr>\n",
       "    <tr>\n",
       "      <th>3</th>\n",
       "      <td>1</td>\n",
       "      <td>Side of Chips</td>\n",
       "      <td>NaN</td>\n",
       "      <td>$1.69</td>\n",
       "    </tr>\n",
       "    <tr>\n",
       "      <th>4</th>\n",
       "      <td>1</td>\n",
       "      <td>Steak Burrito</td>\n",
       "      <td>[Tomatillo Red Chili Salsa, [Fajita Vegetables...</td>\n",
       "      <td>$11.75</td>\n",
       "    </tr>\n",
       "    <tr>\n",
       "      <th>4</th>\n",
       "      <td>1</td>\n",
       "      <td>Steak Soft Tacos</td>\n",
       "      <td>[Tomatillo Green Chili Salsa, [Pinto Beans, Ch...</td>\n",
       "      <td>$9.25</td>\n",
       "    </tr>\n",
       "    <tr>\n",
       "      <th>5</th>\n",
       "      <td>1</td>\n",
       "      <td>Steak Burrito</td>\n",
       "      <td>[Fresh Tomato Salsa, [Rice, Black Beans, Pinto...</td>\n",
       "      <td>$9.25</td>\n",
       "    </tr>\n",
       "  </tbody>\n",
       "</table>\n",
       "</div>"
      ],
      "text/plain": [
       "          quantity                              item_name  \\\n",
       "order_id                                                    \n",
       "1                1           Chips and Fresh Tomato Salsa   \n",
       "1                1                                   Izze   \n",
       "1                1                       Nantucket Nectar   \n",
       "1                1  Chips and Tomatillo-Green Chili Salsa   \n",
       "2                2                           Chicken Bowl   \n",
       "3                1                           Chicken Bowl   \n",
       "3                1                          Side of Chips   \n",
       "4                1                          Steak Burrito   \n",
       "4                1                       Steak Soft Tacos   \n",
       "5                1                          Steak Burrito   \n",
       "\n",
       "                                         choice_description item_price  \n",
       "order_id                                                                \n",
       "1                                                       NaN     $2.39   \n",
       "1                                              [Clementine]     $3.39   \n",
       "1                                                   [Apple]     $3.39   \n",
       "1                                                       NaN     $2.39   \n",
       "2         [Tomatillo-Red Chili Salsa (Hot), [Black Beans...    $16.98   \n",
       "3         [Fresh Tomato Salsa (Mild), [Rice, Cheese, Sou...    $10.98   \n",
       "3                                                       NaN     $1.69   \n",
       "4         [Tomatillo Red Chili Salsa, [Fajita Vegetables...    $11.75   \n",
       "4         [Tomatillo Green Chili Salsa, [Pinto Beans, Ch...     $9.25   \n",
       "5         [Fresh Tomato Salsa, [Rice, Black Beans, Pinto...     $9.25   "
      ]
     },
     "execution_count": 5,
     "metadata": {},
     "output_type": "execute_result"
    }
   ],
   "source": [
    "chipo.head(10)"
   ]
  },
  {
   "cell_type": "markdown",
   "metadata": {},
   "source": [
    "### Step 5. What is the number of observations in the dataset?"
   ]
  },
  {
   "cell_type": "code",
   "execution_count": 8,
   "metadata": {
    "collapsed": false,
    "jupyter": {
     "outputs_hidden": false
    }
   },
   "outputs": [
    {
     "data": {
      "text/plain": [
       "4622"
      ]
     },
     "execution_count": 8,
     "metadata": {},
     "output_type": "execute_result"
    }
   ],
   "source": [
    "chipo.shape[0]"
   ]
  },
  {
   "cell_type": "code",
   "execution_count": 9,
   "metadata": {
    "collapsed": false,
    "jupyter": {
     "outputs_hidden": false
    }
   },
   "outputs": [
    {
     "name": "stdout",
     "output_type": "stream",
     "text": [
      "<class 'pandas.core.frame.DataFrame'>\n",
      "Index: 4622 entries, 1 to 1834\n",
      "Data columns (total 4 columns):\n",
      " #   Column              Non-Null Count  Dtype \n",
      "---  ------              --------------  ----- \n",
      " 0   quantity            4622 non-null   int64 \n",
      " 1   item_name           4622 non-null   object\n",
      " 2   choice_description  3376 non-null   object\n",
      " 3   item_price          4622 non-null   object\n",
      "dtypes: int64(1), object(3)\n",
      "memory usage: 180.5+ KB\n"
     ]
    }
   ],
   "source": [
    "chipo.info()"
   ]
  },
  {
   "cell_type": "markdown",
   "metadata": {},
   "source": [
    "### Step 6. What is the number of columns in the dataset?"
   ]
  },
  {
   "cell_type": "code",
   "execution_count": 10,
   "metadata": {
    "collapsed": false,
    "jupyter": {
     "outputs_hidden": false
    }
   },
   "outputs": [
    {
     "data": {
      "text/plain": [
       "4"
      ]
     },
     "execution_count": 10,
     "metadata": {},
     "output_type": "execute_result"
    }
   ],
   "source": [
    "chipo.shape[1]"
   ]
  },
  {
   "cell_type": "markdown",
   "metadata": {},
   "source": [
    "### Step 7. Print the name of all the columns."
   ]
  },
  {
   "cell_type": "code",
   "execution_count": 16,
   "metadata": {
    "collapsed": false,
    "jupyter": {
     "outputs_hidden": false
    }
   },
   "outputs": [
    {
     "data": {
      "text/plain": [
       "Index(['quantity', 'item_name', 'choice_description', 'item_price'], dtype='object')"
      ]
     },
     "execution_count": 16,
     "metadata": {},
     "output_type": "execute_result"
    }
   ],
   "source": [
    "chipo.columns"
   ]
  },
  {
   "cell_type": "markdown",
   "metadata": {},
   "source": [
    "### Step 8. How is the dataset indexed?"
   ]
  },
  {
   "cell_type": "code",
   "execution_count": 17,
   "metadata": {
    "collapsed": false,
    "jupyter": {
     "outputs_hidden": false
    }
   },
   "outputs": [
    {
     "data": {
      "text/plain": [
       "Index([   1,    1,    1,    1,    2,    3,    3,    4,    4,    5,\n",
       "       ...\n",
       "       1831, 1831, 1831, 1832, 1832, 1833, 1833, 1834, 1834, 1834],\n",
       "      dtype='int64', name='order_id', length=4622)"
      ]
     },
     "execution_count": 17,
     "metadata": {},
     "output_type": "execute_result"
    }
   ],
   "source": [
    "chipo.index"
   ]
  },
  {
   "cell_type": "markdown",
   "metadata": {},
   "source": [
    "### Step 9. Which was the most-ordered item? "
   ]
  },
  {
   "cell_type": "code",
   "execution_count": 27,
   "metadata": {
    "collapsed": false,
    "jupyter": {
     "outputs_hidden": false
    }
   },
   "outputs": [
    {
     "data": {
      "text/html": [
       "<div>\n",
       "<style scoped>\n",
       "    .dataframe tbody tr th:only-of-type {\n",
       "        vertical-align: middle;\n",
       "    }\n",
       "\n",
       "    .dataframe tbody tr th {\n",
       "        vertical-align: top;\n",
       "    }\n",
       "\n",
       "    .dataframe thead th {\n",
       "        text-align: right;\n",
       "    }\n",
       "</style>\n",
       "<table border=\"1\" class=\"dataframe\">\n",
       "  <thead>\n",
       "    <tr style=\"text-align: right;\">\n",
       "      <th></th>\n",
       "      <th>quantity</th>\n",
       "      <th>choice_description</th>\n",
       "      <th>item_price</th>\n",
       "    </tr>\n",
       "    <tr>\n",
       "      <th>item_name</th>\n",
       "      <th></th>\n",
       "      <th></th>\n",
       "      <th></th>\n",
       "    </tr>\n",
       "  </thead>\n",
       "  <tbody>\n",
       "    <tr>\n",
       "      <th>Chicken Bowl</th>\n",
       "      <td>761</td>\n",
       "      <td>[Tomatillo-Red Chili Salsa (Hot), [Black Beans...</td>\n",
       "      <td>$16.98 $10.98 $11.25 $8.75 $8.49 $11.25 $8.75 ...</td>\n",
       "    </tr>\n",
       "    <tr>\n",
       "      <th>Chicken Burrito</th>\n",
       "      <td>591</td>\n",
       "      <td>[Tomatillo-Green Chili Salsa (Medium), [Pinto ...</td>\n",
       "      <td>$8.49 $8.49 $10.98 $8.49 $10.98 $10.98 $8.75 $...</td>\n",
       "    </tr>\n",
       "    <tr>\n",
       "      <th>Chips and Guacamole</th>\n",
       "      <td>506</td>\n",
       "      <td>0</td>\n",
       "      <td>$4.45 $4.45 $4.45 $4.45 $4.45 $3.99 $4.45 $3.9...</td>\n",
       "    </tr>\n",
       "    <tr>\n",
       "      <th>Steak Burrito</th>\n",
       "      <td>386</td>\n",
       "      <td>[Tomatillo Red Chili Salsa, [Fajita Vegetables...</td>\n",
       "      <td>$11.75 $9.25 $8.99 $11.75 $8.99 $8.99 $8.99 $8...</td>\n",
       "    </tr>\n",
       "    <tr>\n",
       "      <th>Canned Soft Drink</th>\n",
       "      <td>351</td>\n",
       "      <td>[Coke][Sprite][Coke][Coke][Lemonade][Sprite][D...</td>\n",
       "      <td>$1.25 $1.25 $1.25 $1.25 $1.25 $1.25 $1.25 $1.2...</td>\n",
       "    </tr>\n",
       "    <tr>\n",
       "      <th>Chips</th>\n",
       "      <td>230</td>\n",
       "      <td>0</td>\n",
       "      <td>$2.15 $2.15 $2.15 $2.15 $2.15 $2.15 $4.30 $2.1...</td>\n",
       "    </tr>\n",
       "    <tr>\n",
       "      <th>Steak Bowl</th>\n",
       "      <td>221</td>\n",
       "      <td>[Fresh Tomato Salsa (Mild), [Black Beans, Rice...</td>\n",
       "      <td>$8.99 $8.99 $11.75 $11.75 $8.99 $11.48 $9.25 $...</td>\n",
       "    </tr>\n",
       "    <tr>\n",
       "      <th>Bottled Water</th>\n",
       "      <td>211</td>\n",
       "      <td>0</td>\n",
       "      <td>$1.09 $1.09 $1.09 $1.50 $1.50 $1.50 $3.00 $1.5...</td>\n",
       "    </tr>\n",
       "    <tr>\n",
       "      <th>Chips and Fresh Tomato Salsa</th>\n",
       "      <td>130</td>\n",
       "      <td>0</td>\n",
       "      <td>$2.39 $2.39 $2.39 $2.95 $2.95 $2.95 $2.95 $2.3...</td>\n",
       "    </tr>\n",
       "    <tr>\n",
       "      <th>Canned Soda</th>\n",
       "      <td>126</td>\n",
       "      <td>[Sprite][Dr. Pepper][Mountain Dew][Sprite][Dr....</td>\n",
       "      <td>$2.18 $1.09 $2.18 $1.09 $1.09 $1.09 $1.09 $2.1...</td>\n",
       "    </tr>\n",
       "    <tr>\n",
       "      <th>Chicken Salad Bowl</th>\n",
       "      <td>123</td>\n",
       "      <td>[Fresh Tomato Salsa, [Fajita Vegetables, Pinto...</td>\n",
       "      <td>$8.75 $22.50 $22.50 $8.75 $17.50 $8.75 $8.75 $...</td>\n",
       "    </tr>\n",
       "    <tr>\n",
       "      <th>Chicken Soft Tacos</th>\n",
       "      <td>120</td>\n",
       "      <td>[Roasted Chili Corn Salsa, [Rice, Black Beans,...</td>\n",
       "      <td>$8.75 $8.75 $8.75 $8.75 $11.25 $8.49 $8.49 $8....</td>\n",
       "    </tr>\n",
       "    <tr>\n",
       "      <th>Side of Chips</th>\n",
       "      <td>110</td>\n",
       "      <td>0</td>\n",
       "      <td>$1.69 $1.69 $1.69 $1.69 $1.69 $1.69 $1.69 $1.6...</td>\n",
       "    </tr>\n",
       "    <tr>\n",
       "      <th>Veggie Burrito</th>\n",
       "      <td>97</td>\n",
       "      <td>[Tomatillo Red Chili Salsa, [Fajita Vegetables...</td>\n",
       "      <td>$11.25 $8.49 $11.25 $11.25 $10.98 $8.49 $8.49 ...</td>\n",
       "    </tr>\n",
       "    <tr>\n",
       "      <th>Barbacoa Burrito</th>\n",
       "      <td>91</td>\n",
       "      <td>[[Fresh Tomato Salsa (Mild), Tomatillo-Green C...</td>\n",
       "      <td>$8.99 $9.25 $9.25 $11.75 $11.75 $9.25 $8.99 $1...</td>\n",
       "    </tr>\n",
       "    <tr>\n",
       "      <th>Veggie Bowl</th>\n",
       "      <td>87</td>\n",
       "      <td>[Fresh Tomato Salsa, [Fajita Vegetables, Rice,...</td>\n",
       "      <td>$11.25 $8.49 $11.25 $11.25 $8.49 $11.25 $11.25...</td>\n",
       "    </tr>\n",
       "    <tr>\n",
       "      <th>Carnitas Bowl</th>\n",
       "      <td>71</td>\n",
       "      <td>[Tomatillo-Red Chili Salsa (Hot), [Black Beans...</td>\n",
       "      <td>$8.99 $11.75 $9.25 $11.48 $8.99 $8.99 $23.50 $...</td>\n",
       "    </tr>\n",
       "    <tr>\n",
       "      <th>Barbacoa Bowl</th>\n",
       "      <td>66</td>\n",
       "      <td>[Roasted Chili Corn Salsa, [Fajita Vegetables,...</td>\n",
       "      <td>$11.75 $11.75 $9.25 $8.99 $9.25 $11.75 $9.25 $...</td>\n",
       "    </tr>\n",
       "    <tr>\n",
       "      <th>Carnitas Burrito</th>\n",
       "      <td>60</td>\n",
       "      <td>[[Tomatillo-Green Chili Salsa (Medium), Roaste...</td>\n",
       "      <td>$8.99 $9.25 $11.75 $9.25 $9.25 $9.25 $11.75 $9...</td>\n",
       "    </tr>\n",
       "    <tr>\n",
       "      <th>Steak Soft Tacos</th>\n",
       "      <td>56</td>\n",
       "      <td>[Tomatillo Green Chili Salsa, [Pinto Beans, Ch...</td>\n",
       "      <td>$9.25 $9.25 $8.99 $9.25 $8.99 $8.99 $9.25 $9.2...</td>\n",
       "    </tr>\n",
       "    <tr>\n",
       "      <th>6 Pack Soft Drink</th>\n",
       "      <td>55</td>\n",
       "      <td>[Sprite][Diet Coke][Coke][Diet Coke][Diet Coke...</td>\n",
       "      <td>$6.49 $6.49 $6.49 $6.49 $6.49 $6.49 $6.49 $6.4...</td>\n",
       "    </tr>\n",
       "    <tr>\n",
       "      <th>Chips and Tomatillo Red Chili Salsa</th>\n",
       "      <td>50</td>\n",
       "      <td>0</td>\n",
       "      <td>$2.95 $2.95 $2.95 $2.95 $2.95 $2.95 $2.95 $2.9...</td>\n",
       "    </tr>\n",
       "    <tr>\n",
       "      <th>Chicken Crispy Tacos</th>\n",
       "      <td>50</td>\n",
       "      <td>[Roasted Chili Corn Salsa, [Fajita Vegetables,...</td>\n",
       "      <td>$8.75 $17.50 $11.25 $8.49 $8.49 $11.25 $8.75 $...</td>\n",
       "    </tr>\n",
       "    <tr>\n",
       "      <th>Chips and Tomatillo Green Chili Salsa</th>\n",
       "      <td>45</td>\n",
       "      <td>0</td>\n",
       "      <td>$2.95 $2.95 $5.90 $2.95 $2.95 $2.95 $2.95 $2.9...</td>\n",
       "    </tr>\n",
       "    <tr>\n",
       "      <th>Carnitas Soft Tacos</th>\n",
       "      <td>40</td>\n",
       "      <td>[Tomatillo Green Chili Salsa, [Fajita Vegetabl...</td>\n",
       "      <td>$9.25 $9.25 $9.25 $9.25 $9.25 $8.99 $8.99 $8.9...</td>\n",
       "    </tr>\n",
       "    <tr>\n",
       "      <th>Steak Crispy Tacos</th>\n",
       "      <td>36</td>\n",
       "      <td>[Fresh Tomato Salsa, Sour Cream][[Roasted Chil...</td>\n",
       "      <td>$9.25 $8.99 $9.25 $8.69 $8.99 $9.25 $8.99 $9.2...</td>\n",
       "    </tr>\n",
       "    <tr>\n",
       "      <th>Chips and Tomatillo-Green Chili Salsa</th>\n",
       "      <td>33</td>\n",
       "      <td>0</td>\n",
       "      <td>$2.39 $2.39 $2.39 $2.39 $2.39 $2.39 $2.39 $2.3...</td>\n",
       "    </tr>\n",
       "    <tr>\n",
       "      <th>Steak Salad Bowl</th>\n",
       "      <td>31</td>\n",
       "      <td>[Tomatillo Red Chili Salsa, [Black Beans, Chee...</td>\n",
       "      <td>$23.78 $11.89 $9.39 $23.78 $11.89 $11.89 $11.8...</td>\n",
       "    </tr>\n",
       "    <tr>\n",
       "      <th>Nantucket Nectar</th>\n",
       "      <td>29</td>\n",
       "      <td>[Apple][Pomegranate Cherry][Pineapple Orange B...</td>\n",
       "      <td>$3.39 $3.39 $3.39 $3.39 $3.39 $3.39 $6.78 $3.3...</td>\n",
       "    </tr>\n",
       "    <tr>\n",
       "      <th>Chips and Tomatillo-Red Chili Salsa</th>\n",
       "      <td>25</td>\n",
       "      <td>0</td>\n",
       "      <td>$2.39 $2.39 $2.39 $2.39 $2.39 $2.39 $2.39 $2.3...</td>\n",
       "    </tr>\n",
       "    <tr>\n",
       "      <th>Barbacoa Soft Tacos</th>\n",
       "      <td>25</td>\n",
       "      <td>[Fresh Tomato Salsa, [Fajita Vegetables, Black...</td>\n",
       "      <td>$9.25 $9.25 $8.99 $9.25 $9.25 $11.75 $11.75 $9...</td>\n",
       "    </tr>\n",
       "    <tr>\n",
       "      <th>Chips and Roasted Chili Corn Salsa</th>\n",
       "      <td>23</td>\n",
       "      <td>0</td>\n",
       "      <td>$2.95 $2.95 $2.95 $2.95 $2.95 $2.95 $2.95 $2.9...</td>\n",
       "    </tr>\n",
       "    <tr>\n",
       "      <th>Izze</th>\n",
       "      <td>20</td>\n",
       "      <td>[Clementine][Grapefruit][Blackberry][Blackberr...</td>\n",
       "      <td>$3.39 $3.39 $3.39 $3.39 $3.39 $3.39 $3.39 $3.3...</td>\n",
       "    </tr>\n",
       "    <tr>\n",
       "      <th>Veggie Salad Bowl</th>\n",
       "      <td>18</td>\n",
       "      <td>[Fresh Tomato Salsa, [Fajita Vegetables, Rice,...</td>\n",
       "      <td>$11.25 $11.25 $11.25 $11.25 $8.75 $8.75 $11.25...</td>\n",
       "    </tr>\n",
       "    <tr>\n",
       "      <th>Chips and Roasted Chili-Corn Salsa</th>\n",
       "      <td>18</td>\n",
       "      <td>0</td>\n",
       "      <td>$2.39 $2.39 $2.39 $2.39 $2.39 $2.39 $2.39 $2.3...</td>\n",
       "    </tr>\n",
       "    <tr>\n",
       "      <th>Barbacoa Crispy Tacos</th>\n",
       "      <td>12</td>\n",
       "      <td>[Tomatillo Red Chili Salsa, [Rice, Black Beans...</td>\n",
       "      <td>$11.75 $9.25 $11.48 $11.75 $9.25 $9.25 $8.99 $...</td>\n",
       "    </tr>\n",
       "    <tr>\n",
       "      <th>Barbacoa Salad Bowl</th>\n",
       "      <td>10</td>\n",
       "      <td>[Fresh Tomato Salsa, [Rice, Fajita Vegetables,...</td>\n",
       "      <td>$11.89 $11.89 $9.39 $9.39 $9.39 $11.89 $11.89 ...</td>\n",
       "    </tr>\n",
       "    <tr>\n",
       "      <th>Chicken Salad</th>\n",
       "      <td>9</td>\n",
       "      <td>[Roasted Chili Corn Salsa (Medium), [Black Bea...</td>\n",
       "      <td>$10.98 $10.98 $8.49 $8.49 $8.49 $8.49 $8.49 $8...</td>\n",
       "    </tr>\n",
       "    <tr>\n",
       "      <th>Carnitas Crispy Tacos</th>\n",
       "      <td>8</td>\n",
       "      <td>[Roasted Chili Corn Salsa][Tomatillo Green Chi...</td>\n",
       "      <td>$9.25 $11.75 $8.99 $11.75 $8.99 $17.98 $9.25</td>\n",
       "    </tr>\n",
       "    <tr>\n",
       "      <th>Veggie Soft Tacos</th>\n",
       "      <td>8</td>\n",
       "      <td>[Tomatillo Red Chili Salsa, [Fajita Vegetables...</td>\n",
       "      <td>$11.25 $8.75 $8.49 $11.25 $8.75 $8.49 $16.98</td>\n",
       "    </tr>\n",
       "    <tr>\n",
       "      <th>Burrito</th>\n",
       "      <td>6</td>\n",
       "      <td>[Adobo-Marinated and Grilled Chicken, Pinto Be...</td>\n",
       "      <td>$7.40 $7.40 $7.40 $7.40 $7.40 $7.40</td>\n",
       "    </tr>\n",
       "    <tr>\n",
       "      <th>Veggie Salad</th>\n",
       "      <td>6</td>\n",
       "      <td>[[Fresh Tomato Salsa (Mild), Roasted Chili Cor...</td>\n",
       "      <td>$8.49 $8.49 $8.49 $8.49 $8.49 $8.49</td>\n",
       "    </tr>\n",
       "    <tr>\n",
       "      <th>Carnitas Salad Bowl</th>\n",
       "      <td>6</td>\n",
       "      <td>[Fresh Tomato Salsa, [Rice, Black Beans, Chees...</td>\n",
       "      <td>$11.89 $9.39 $11.89 $9.39 $11.89 $11.89</td>\n",
       "    </tr>\n",
       "    <tr>\n",
       "      <th>Bowl</th>\n",
       "      <td>4</td>\n",
       "      <td>[Braised Carnitas, Pinto Beans, [Sour Cream, C...</td>\n",
       "      <td>$22.20 $7.40</td>\n",
       "    </tr>\n",
       "    <tr>\n",
       "      <th>Steak Salad</th>\n",
       "      <td>4</td>\n",
       "      <td>[Tomatillo-Red Chili Salsa (Hot), [Black Beans...</td>\n",
       "      <td>$8.99 $8.99 $8.99 $8.69</td>\n",
       "    </tr>\n",
       "    <tr>\n",
       "      <th>Salad</th>\n",
       "      <td>2</td>\n",
       "      <td>[Brown Rice, Adobo-Marinated and Grilled Chick...</td>\n",
       "      <td>$7.40 $7.40</td>\n",
       "    </tr>\n",
       "    <tr>\n",
       "      <th>Crispy Tacos</th>\n",
       "      <td>2</td>\n",
       "      <td>[Adobo-Marinated and Grilled Steak][Adobo-Mari...</td>\n",
       "      <td>$7.40 $7.40</td>\n",
       "    </tr>\n",
       "    <tr>\n",
       "      <th>Chips and Mild Fresh Tomato Salsa</th>\n",
       "      <td>1</td>\n",
       "      <td>0</td>\n",
       "      <td>$3.00</td>\n",
       "    </tr>\n",
       "    <tr>\n",
       "      <th>Carnitas Salad</th>\n",
       "      <td>1</td>\n",
       "      <td>[[Fresh Tomato Salsa (Mild), Roasted Chili Cor...</td>\n",
       "      <td>$8.99</td>\n",
       "    </tr>\n",
       "    <tr>\n",
       "      <th>Veggie Crispy Tacos</th>\n",
       "      <td>1</td>\n",
       "      <td>[Fresh Tomato Salsa (Mild), [Pinto Beans, Rice...</td>\n",
       "      <td>$8.49</td>\n",
       "    </tr>\n",
       "  </tbody>\n",
       "</table>\n",
       "</div>"
      ],
      "text/plain": [
       "                                       quantity  \\\n",
       "item_name                                         \n",
       "Chicken Bowl                                761   \n",
       "Chicken Burrito                             591   \n",
       "Chips and Guacamole                         506   \n",
       "Steak Burrito                               386   \n",
       "Canned Soft Drink                           351   \n",
       "Chips                                       230   \n",
       "Steak Bowl                                  221   \n",
       "Bottled Water                               211   \n",
       "Chips and Fresh Tomato Salsa                130   \n",
       "Canned Soda                                 126   \n",
       "Chicken Salad Bowl                          123   \n",
       "Chicken Soft Tacos                          120   \n",
       "Side of Chips                               110   \n",
       "Veggie Burrito                               97   \n",
       "Barbacoa Burrito                             91   \n",
       "Veggie Bowl                                  87   \n",
       "Carnitas Bowl                                71   \n",
       "Barbacoa Bowl                                66   \n",
       "Carnitas Burrito                             60   \n",
       "Steak Soft Tacos                             56   \n",
       "6 Pack Soft Drink                            55   \n",
       "Chips and Tomatillo Red Chili Salsa          50   \n",
       "Chicken Crispy Tacos                         50   \n",
       "Chips and Tomatillo Green Chili Salsa        45   \n",
       "Carnitas Soft Tacos                          40   \n",
       "Steak Crispy Tacos                           36   \n",
       "Chips and Tomatillo-Green Chili Salsa        33   \n",
       "Steak Salad Bowl                             31   \n",
       "Nantucket Nectar                             29   \n",
       "Chips and Tomatillo-Red Chili Salsa          25   \n",
       "Barbacoa Soft Tacos                          25   \n",
       "Chips and Roasted Chili Corn Salsa           23   \n",
       "Izze                                         20   \n",
       "Veggie Salad Bowl                            18   \n",
       "Chips and Roasted Chili-Corn Salsa           18   \n",
       "Barbacoa Crispy Tacos                        12   \n",
       "Barbacoa Salad Bowl                          10   \n",
       "Chicken Salad                                 9   \n",
       "Carnitas Crispy Tacos                         8   \n",
       "Veggie Soft Tacos                             8   \n",
       "Burrito                                       6   \n",
       "Veggie Salad                                  6   \n",
       "Carnitas Salad Bowl                           6   \n",
       "Bowl                                          4   \n",
       "Steak Salad                                   4   \n",
       "Salad                                         2   \n",
       "Crispy Tacos                                  2   \n",
       "Chips and Mild Fresh Tomato Salsa             1   \n",
       "Carnitas Salad                                1   \n",
       "Veggie Crispy Tacos                           1   \n",
       "\n",
       "                                                                      choice_description  \\\n",
       "item_name                                                                                  \n",
       "Chicken Bowl                           [Tomatillo-Red Chili Salsa (Hot), [Black Beans...   \n",
       "Chicken Burrito                        [Tomatillo-Green Chili Salsa (Medium), [Pinto ...   \n",
       "Chips and Guacamole                                                                    0   \n",
       "Steak Burrito                          [Tomatillo Red Chili Salsa, [Fajita Vegetables...   \n",
       "Canned Soft Drink                      [Coke][Sprite][Coke][Coke][Lemonade][Sprite][D...   \n",
       "Chips                                                                                  0   \n",
       "Steak Bowl                             [Fresh Tomato Salsa (Mild), [Black Beans, Rice...   \n",
       "Bottled Water                                                                          0   \n",
       "Chips and Fresh Tomato Salsa                                                           0   \n",
       "Canned Soda                            [Sprite][Dr. Pepper][Mountain Dew][Sprite][Dr....   \n",
       "Chicken Salad Bowl                     [Fresh Tomato Salsa, [Fajita Vegetables, Pinto...   \n",
       "Chicken Soft Tacos                     [Roasted Chili Corn Salsa, [Rice, Black Beans,...   \n",
       "Side of Chips                                                                          0   \n",
       "Veggie Burrito                         [Tomatillo Red Chili Salsa, [Fajita Vegetables...   \n",
       "Barbacoa Burrito                       [[Fresh Tomato Salsa (Mild), Tomatillo-Green C...   \n",
       "Veggie Bowl                            [Fresh Tomato Salsa, [Fajita Vegetables, Rice,...   \n",
       "Carnitas Bowl                          [Tomatillo-Red Chili Salsa (Hot), [Black Beans...   \n",
       "Barbacoa Bowl                          [Roasted Chili Corn Salsa, [Fajita Vegetables,...   \n",
       "Carnitas Burrito                       [[Tomatillo-Green Chili Salsa (Medium), Roaste...   \n",
       "Steak Soft Tacos                       [Tomatillo Green Chili Salsa, [Pinto Beans, Ch...   \n",
       "6 Pack Soft Drink                      [Sprite][Diet Coke][Coke][Diet Coke][Diet Coke...   \n",
       "Chips and Tomatillo Red Chili Salsa                                                    0   \n",
       "Chicken Crispy Tacos                   [Roasted Chili Corn Salsa, [Fajita Vegetables,...   \n",
       "Chips and Tomatillo Green Chili Salsa                                                  0   \n",
       "Carnitas Soft Tacos                    [Tomatillo Green Chili Salsa, [Fajita Vegetabl...   \n",
       "Steak Crispy Tacos                     [Fresh Tomato Salsa, Sour Cream][[Roasted Chil...   \n",
       "Chips and Tomatillo-Green Chili Salsa                                                  0   \n",
       "Steak Salad Bowl                       [Tomatillo Red Chili Salsa, [Black Beans, Chee...   \n",
       "Nantucket Nectar                       [Apple][Pomegranate Cherry][Pineapple Orange B...   \n",
       "Chips and Tomatillo-Red Chili Salsa                                                    0   \n",
       "Barbacoa Soft Tacos                    [Fresh Tomato Salsa, [Fajita Vegetables, Black...   \n",
       "Chips and Roasted Chili Corn Salsa                                                     0   \n",
       "Izze                                   [Clementine][Grapefruit][Blackberry][Blackberr...   \n",
       "Veggie Salad Bowl                      [Fresh Tomato Salsa, [Fajita Vegetables, Rice,...   \n",
       "Chips and Roasted Chili-Corn Salsa                                                     0   \n",
       "Barbacoa Crispy Tacos                  [Tomatillo Red Chili Salsa, [Rice, Black Beans...   \n",
       "Barbacoa Salad Bowl                    [Fresh Tomato Salsa, [Rice, Fajita Vegetables,...   \n",
       "Chicken Salad                          [Roasted Chili Corn Salsa (Medium), [Black Bea...   \n",
       "Carnitas Crispy Tacos                  [Roasted Chili Corn Salsa][Tomatillo Green Chi...   \n",
       "Veggie Soft Tacos                      [Tomatillo Red Chili Salsa, [Fajita Vegetables...   \n",
       "Burrito                                [Adobo-Marinated and Grilled Chicken, Pinto Be...   \n",
       "Veggie Salad                           [[Fresh Tomato Salsa (Mild), Roasted Chili Cor...   \n",
       "Carnitas Salad Bowl                    [Fresh Tomato Salsa, [Rice, Black Beans, Chees...   \n",
       "Bowl                                   [Braised Carnitas, Pinto Beans, [Sour Cream, C...   \n",
       "Steak Salad                            [Tomatillo-Red Chili Salsa (Hot), [Black Beans...   \n",
       "Salad                                  [Brown Rice, Adobo-Marinated and Grilled Chick...   \n",
       "Crispy Tacos                           [Adobo-Marinated and Grilled Steak][Adobo-Mari...   \n",
       "Chips and Mild Fresh Tomato Salsa                                                      0   \n",
       "Carnitas Salad                         [[Fresh Tomato Salsa (Mild), Roasted Chili Cor...   \n",
       "Veggie Crispy Tacos                    [Fresh Tomato Salsa (Mild), [Pinto Beans, Rice...   \n",
       "\n",
       "                                                                              item_price  \n",
       "item_name                                                                                 \n",
       "Chicken Bowl                           $16.98 $10.98 $11.25 $8.75 $8.49 $11.25 $8.75 ...  \n",
       "Chicken Burrito                        $8.49 $8.49 $10.98 $8.49 $10.98 $10.98 $8.75 $...  \n",
       "Chips and Guacamole                    $4.45 $4.45 $4.45 $4.45 $4.45 $3.99 $4.45 $3.9...  \n",
       "Steak Burrito                          $11.75 $9.25 $8.99 $11.75 $8.99 $8.99 $8.99 $8...  \n",
       "Canned Soft Drink                      $1.25 $1.25 $1.25 $1.25 $1.25 $1.25 $1.25 $1.2...  \n",
       "Chips                                  $2.15 $2.15 $2.15 $2.15 $2.15 $2.15 $4.30 $2.1...  \n",
       "Steak Bowl                             $8.99 $8.99 $11.75 $11.75 $8.99 $11.48 $9.25 $...  \n",
       "Bottled Water                          $1.09 $1.09 $1.09 $1.50 $1.50 $1.50 $3.00 $1.5...  \n",
       "Chips and Fresh Tomato Salsa           $2.39 $2.39 $2.39 $2.95 $2.95 $2.95 $2.95 $2.3...  \n",
       "Canned Soda                            $2.18 $1.09 $2.18 $1.09 $1.09 $1.09 $1.09 $2.1...  \n",
       "Chicken Salad Bowl                     $8.75 $22.50 $22.50 $8.75 $17.50 $8.75 $8.75 $...  \n",
       "Chicken Soft Tacos                     $8.75 $8.75 $8.75 $8.75 $11.25 $8.49 $8.49 $8....  \n",
       "Side of Chips                          $1.69 $1.69 $1.69 $1.69 $1.69 $1.69 $1.69 $1.6...  \n",
       "Veggie Burrito                         $11.25 $8.49 $11.25 $11.25 $10.98 $8.49 $8.49 ...  \n",
       "Barbacoa Burrito                       $8.99 $9.25 $9.25 $11.75 $11.75 $9.25 $8.99 $1...  \n",
       "Veggie Bowl                            $11.25 $8.49 $11.25 $11.25 $8.49 $11.25 $11.25...  \n",
       "Carnitas Bowl                          $8.99 $11.75 $9.25 $11.48 $8.99 $8.99 $23.50 $...  \n",
       "Barbacoa Bowl                          $11.75 $11.75 $9.25 $8.99 $9.25 $11.75 $9.25 $...  \n",
       "Carnitas Burrito                       $8.99 $9.25 $11.75 $9.25 $9.25 $9.25 $11.75 $9...  \n",
       "Steak Soft Tacos                       $9.25 $9.25 $8.99 $9.25 $8.99 $8.99 $9.25 $9.2...  \n",
       "6 Pack Soft Drink                      $6.49 $6.49 $6.49 $6.49 $6.49 $6.49 $6.49 $6.4...  \n",
       "Chips and Tomatillo Red Chili Salsa    $2.95 $2.95 $2.95 $2.95 $2.95 $2.95 $2.95 $2.9...  \n",
       "Chicken Crispy Tacos                   $8.75 $17.50 $11.25 $8.49 $8.49 $11.25 $8.75 $...  \n",
       "Chips and Tomatillo Green Chili Salsa  $2.95 $2.95 $5.90 $2.95 $2.95 $2.95 $2.95 $2.9...  \n",
       "Carnitas Soft Tacos                    $9.25 $9.25 $9.25 $9.25 $9.25 $8.99 $8.99 $8.9...  \n",
       "Steak Crispy Tacos                     $9.25 $8.99 $9.25 $8.69 $8.99 $9.25 $8.99 $9.2...  \n",
       "Chips and Tomatillo-Green Chili Salsa  $2.39 $2.39 $2.39 $2.39 $2.39 $2.39 $2.39 $2.3...  \n",
       "Steak Salad Bowl                       $23.78 $11.89 $9.39 $23.78 $11.89 $11.89 $11.8...  \n",
       "Nantucket Nectar                       $3.39 $3.39 $3.39 $3.39 $3.39 $3.39 $6.78 $3.3...  \n",
       "Chips and Tomatillo-Red Chili Salsa    $2.39 $2.39 $2.39 $2.39 $2.39 $2.39 $2.39 $2.3...  \n",
       "Barbacoa Soft Tacos                    $9.25 $9.25 $8.99 $9.25 $9.25 $11.75 $11.75 $9...  \n",
       "Chips and Roasted Chili Corn Salsa     $2.95 $2.95 $2.95 $2.95 $2.95 $2.95 $2.95 $2.9...  \n",
       "Izze                                   $3.39 $3.39 $3.39 $3.39 $3.39 $3.39 $3.39 $3.3...  \n",
       "Veggie Salad Bowl                      $11.25 $11.25 $11.25 $11.25 $8.75 $8.75 $11.25...  \n",
       "Chips and Roasted Chili-Corn Salsa     $2.39 $2.39 $2.39 $2.39 $2.39 $2.39 $2.39 $2.3...  \n",
       "Barbacoa Crispy Tacos                  $11.75 $9.25 $11.48 $11.75 $9.25 $9.25 $8.99 $...  \n",
       "Barbacoa Salad Bowl                    $11.89 $11.89 $9.39 $9.39 $9.39 $11.89 $11.89 ...  \n",
       "Chicken Salad                          $10.98 $10.98 $8.49 $8.49 $8.49 $8.49 $8.49 $8...  \n",
       "Carnitas Crispy Tacos                      $9.25 $11.75 $8.99 $11.75 $8.99 $17.98 $9.25   \n",
       "Veggie Soft Tacos                          $11.25 $8.75 $8.49 $11.25 $8.75 $8.49 $16.98   \n",
       "Burrito                                             $7.40 $7.40 $7.40 $7.40 $7.40 $7.40   \n",
       "Veggie Salad                                        $8.49 $8.49 $8.49 $8.49 $8.49 $8.49   \n",
       "Carnitas Salad Bowl                             $11.89 $9.39 $11.89 $9.39 $11.89 $11.89   \n",
       "Bowl                                                                       $22.20 $7.40   \n",
       "Steak Salad                                                     $8.99 $8.99 $8.99 $8.69   \n",
       "Salad                                                                       $7.40 $7.40   \n",
       "Crispy Tacos                                                                $7.40 $7.40   \n",
       "Chips and Mild Fresh Tomato Salsa                                                 $3.00   \n",
       "Carnitas Salad                                                                    $8.99   \n",
       "Veggie Crispy Tacos                                                               $8.49   "
      ]
     },
     "execution_count": 27,
     "metadata": {},
     "output_type": "execute_result"
    }
   ],
   "source": [
    "chipo.groupby('item_name').sum().sort_values(['quantity'], ascending=False)"
   ]
  },
  {
   "cell_type": "markdown",
   "metadata": {},
   "source": [
    "### Step 10. For the most-ordered item, how many items were ordered?"
   ]
  },
  {
   "cell_type": "code",
   "execution_count": null,
   "metadata": {
    "collapsed": false,
    "jupyter": {
     "outputs_hidden": false
    }
   },
   "outputs": [],
   "source": []
  },
  {
   "cell_type": "markdown",
   "metadata": {},
   "source": [
    "### Step 11. What was the most ordered item in the choice_description column?"
   ]
  },
  {
   "cell_type": "code",
   "execution_count": null,
   "metadata": {
    "collapsed": false,
    "jupyter": {
     "outputs_hidden": false
    }
   },
   "outputs": [],
   "source": []
  },
  {
   "cell_type": "markdown",
   "metadata": {},
   "source": [
    "### Step 12. How many items were orderd in total?"
   ]
  },
  {
   "cell_type": "code",
   "execution_count": null,
   "metadata": {
    "collapsed": false,
    "jupyter": {
     "outputs_hidden": false
    }
   },
   "outputs": [],
   "source": []
  },
  {
   "cell_type": "markdown",
   "metadata": {},
   "source": [
    "### Step 13. Turn the item price into a float"
   ]
  },
  {
   "cell_type": "markdown",
   "metadata": {},
   "source": [
    "#### Step 13.a. Check the item price type"
   ]
  },
  {
   "cell_type": "code",
   "execution_count": null,
   "metadata": {
    "collapsed": false,
    "jupyter": {
     "outputs_hidden": false
    }
   },
   "outputs": [],
   "source": []
  },
  {
   "cell_type": "markdown",
   "metadata": {},
   "source": [
    "#### Step 13.b. Create a lambda function and change the type of item price"
   ]
  },
  {
   "cell_type": "code",
   "execution_count": null,
   "metadata": {
    "collapsed": true,
    "jupyter": {
     "outputs_hidden": true
    }
   },
   "outputs": [],
   "source": []
  },
  {
   "cell_type": "markdown",
   "metadata": {},
   "source": [
    "#### Step 13.c. Check the item price type"
   ]
  },
  {
   "cell_type": "code",
   "execution_count": null,
   "metadata": {
    "collapsed": false,
    "jupyter": {
     "outputs_hidden": false
    }
   },
   "outputs": [],
   "source": []
  },
  {
   "cell_type": "markdown",
   "metadata": {},
   "source": [
    "### Step 14. How much was the revenue for the period in the dataset?"
   ]
  },
  {
   "cell_type": "code",
   "execution_count": null,
   "metadata": {
    "collapsed": false,
    "jupyter": {
     "outputs_hidden": false
    }
   },
   "outputs": [],
   "source": []
  },
  {
   "cell_type": "markdown",
   "metadata": {},
   "source": [
    "### Step 15. How many orders were made in the period?"
   ]
  },
  {
   "cell_type": "code",
   "execution_count": null,
   "metadata": {
    "collapsed": false,
    "jupyter": {
     "outputs_hidden": false
    }
   },
   "outputs": [],
   "source": []
  },
  {
   "cell_type": "markdown",
   "metadata": {},
   "source": [
    "### Step 16. What is the average revenue amount per order?"
   ]
  },
  {
   "cell_type": "code",
   "execution_count": 3,
   "metadata": {
    "collapsed": false,
    "jupyter": {
     "outputs_hidden": false
    }
   },
   "outputs": [],
   "source": [
    "# Solution 1\n",
    "\n"
   ]
  },
  {
   "cell_type": "code",
   "execution_count": 4,
   "metadata": {
    "collapsed": false,
    "jupyter": {
     "outputs_hidden": false
    }
   },
   "outputs": [],
   "source": [
    "# Solution 2\n",
    "\n"
   ]
  },
  {
   "cell_type": "markdown",
   "metadata": {},
   "source": [
    "### Step 17. How many different items are sold?"
   ]
  },
  {
   "cell_type": "code",
   "execution_count": null,
   "metadata": {
    "collapsed": false,
    "jupyter": {
     "outputs_hidden": false
    }
   },
   "outputs": [],
   "source": []
  }
 ],
 "metadata": {
  "anaconda-cloud": {},
  "kernelspec": {
   "display_name": "Python 3 (ipykernel)",
   "language": "python",
   "name": "python3"
  },
  "language_info": {
   "codemirror_mode": {
    "name": "ipython",
    "version": 3
   },
   "file_extension": ".py",
   "mimetype": "text/x-python",
   "name": "python",
   "nbconvert_exporter": "python",
   "pygments_lexer": "ipython3",
   "version": "3.12.1"
  }
 },
 "nbformat": 4,
 "nbformat_minor": 4
}
